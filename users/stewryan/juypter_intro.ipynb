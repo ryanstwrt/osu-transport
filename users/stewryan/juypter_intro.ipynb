{
  "nbformat": 4,
  "nbformat_minor": 0,
  "metadata": {
    "kernelspec": {
      "display_name": "Python 3",
      "language": "python",
      "name": "python3"
    },
    "language_info": {
      "codemirror_mode": {
        "name": "ipython",
        "version": 3
      },
      "file_extension": ".py",
      "mimetype": "text/x-python",
      "name": "python",
      "nbconvert_exporter": "python",
      "pygments_lexer": "ipython3",
      "version": "3.6.5"
    },
    "colab": {
      "name": "Workshop_1.ipynb",
      "provenance": [],
      "include_colab_link": true
    }
  },
  "cells": [
    {
      "cell_type": "markdown",
      "metadata": {
        "id": "view-in-github",
        "colab_type": "text"
      },
      "source": [
        "<a href=\"https://colab.research.google.com/github/ryanstwrt/osu-transport/blob/master/users/stewryan/juypter_intro.ipynb\" target=\"_parent\"><img src=\"https://colab.research.google.com/assets/colab-badge.svg\" alt=\"Open In Colab\"/></a>"
      ]
    },
    {
      "cell_type": "markdown",
      "metadata": {
        "id": "_kyJB37cu51W",
        "colab_type": "text"
      },
      "source": [
        "# Part 1: Python Introduction and Numpy\n",
        "by Leslie Kerby with some material adapted from Berkeley Data Science"
      ]
    },
    {
      "cell_type": "markdown",
      "metadata": {
        "collapsed": true,
        "id": "fJEUbetWu51X",
        "colab_type": "text"
      },
      "source": [
        "## 1. Jupyter notebooks\n",
        "This webpage is called a Jupyter notebook. A notebook is a place to write programs and view their results.\n",
        "\n",
        "### 1.1. Text cells\n",
        "In a notebook, each rectangle containing text or code is called a *cell*.\n",
        "\n",
        "Text cells (like this one) can be edited by double-clicking on them. They're written in a simple format called [Markdown](http://daringfireball.net/projects/markdown/syntax) to add formatting and section headings.  You don't need to learn Markdown, but you might want to.\n",
        "\n",
        "After you edit a text cell, select the 'run cell' button at the top that looks like ▶| to confirm any changes."
      ]
    },
    {
      "cell_type": "markdown",
      "metadata": {
        "id": "coCpfO6bu51Y",
        "colab_type": "text"
      },
      "source": [
        "### 1.2. Code cells\n",
        "Code cells, like the one below, can be executed with the 'run cell' ▶| button on the top. Or you can use the keyboard shortcut `Ctrl + Enter`. Try it. Another useful keyboard shortcut is `Alt + Enter` which will execute the cell AND add a new code cell below it. If you want to delete a cell, click on it and tap the 'scissors' button."
      ]
    },
    {
      "cell_type": "code",
      "metadata": {
        "id": "u_7JyNUAu51Z",
        "colab_type": "code",
        "outputId": "fefa7d50-4a99-4ad4-b00b-2de800806b7c",
        "colab": {}
      },
      "source": [
        "print(\"Hello, World!\")"
      ],
      "execution_count": 0,
      "outputs": [
        {
          "output_type": "stream",
          "text": [
            "Hello, World!\n"
          ],
          "name": "stdout"
        }
      ]
    },
    {
      "cell_type": "markdown",
      "metadata": {
        "id": "gDO7H5Jeu51c",
        "colab_type": "text"
      },
      "source": [
        "There is your first 'Hello, World!' program. Pretty simple. <br/>\n",
        "`print` is a useful function and we will use it throughout the workshop. Note that you can use single quotes `'` or double quotes `\"`; it does not care. Try running the next cell."
      ]
    },
    {
      "cell_type": "code",
      "metadata": {
        "id": "BGsdbjTou51d",
        "colab_type": "code",
        "outputId": "76e7c419-bac3-480c-be44-df6f0d75fddb",
        "colab": {}
      },
      "source": [
        "print('\\N{WAVING HAND SIGN}, \\N{EARTH GLOBE ASIA-AUSTRALIA}!')"
      ],
      "execution_count": 0,
      "outputs": [
        {
          "output_type": "stream",
          "text": [
            "👋, 🌏!\n"
          ],
          "name": "stdout"
        }
      ]
    },
    {
      "cell_type": "markdown",
      "metadata": {
        "id": "vIGlf38Cu51f",
        "colab_type": "text"
      },
      "source": [
        "**Question 1.2.1.** <br />\n",
        "Change the cell below so that it prints out:\n",
        "\n",
        "    First this line,\n",
        "    then the whole 🌏,\n",
        "    and then this one."
      ]
    },
    {
      "cell_type": "code",
      "metadata": {
        "id": "bYp-xJnTu51f",
        "colab_type": "code",
        "outputId": "94cc1faa-1349-4422-a99e-be2bd3e5efd0",
        "colab": {
          "base_uri": "https://localhost:8080/",
          "height": 51
        }
      },
      "source": [
        "print('First this line,')\n",
        "print('and then this one.')"
      ],
      "execution_count": 0,
      "outputs": [
        {
          "output_type": "stream",
          "text": [
            "First this line,\n",
            "and then this one.\n"
          ],
          "name": "stdout"
        }
      ]
    },
    {
      "cell_type": "markdown",
      "metadata": {
        "id": "uUEBXSmpu51h",
        "colab_type": "text"
      },
      "source": [
        "A new cell starts out as code.  You can change it to a text cell by selecting it so that it's highlighted, then selecting the drop-down box next to the restart (⟳) button in the menu bar, and choosing Markdown instead of Code."
      ]
    },
    {
      "cell_type": "markdown",
      "metadata": {
        "id": "SFQXuPlWu51i",
        "colab_type": "text"
      },
      "source": [
        "### 1.3. The Kernel\n",
        "The kernel is a program that executes the code inside your notebook and outputs the results. In the top right of your window, you can see a circle that indicates the status of your kernel. If the circle is empty (⚪), the kernel is idle and ready to execute code. If the circle is filled in (⚫), the kernel is busy running some code. \n",
        "\n",
        "You may run into problems where your kernel is stuck for an excessive amount of time, your notebook is very slow and unresponsive, or your kernel loses its connection. If this happens, try the following steps:\n",
        "1. At the top of your screen, select **Kernel**, then **Interrupt**.\n",
        "2. If that doesn't help, select **Kernel**, then **Restart**. If you do this, you will have to run your code cells from the start of your notebook up until where you paused your work.\n",
        "3. If that doesn't help, restart your server. First, save your work by selecting **File** at the top left of your screen, then **Save and Checkpoint** (or by clicking the disk icon or by pressing `Ctrl + S`). Next, select **Control Panel** at the top right. Choose **Stop My Server** to shut it down, then **My Server** to start it back up. Then, navigate back to the notebook you were working on."
      ]
    },
    {
      "cell_type": "markdown",
      "metadata": {
        "id": "ytAeYLVsu51i",
        "colab_type": "text"
      },
      "source": [
        "## 2. Introduction to Python"
      ]
    },
    {
      "cell_type": "markdown",
      "metadata": {
        "id": "_hEfqnfiu51j",
        "colab_type": "text"
      },
      "source": [
        "### 2.1. Numbers\n",
        "\n",
        "Quantitative information arises everywhere in data science. The expression `3.2500` evaluates to the number 3.25. (Run the cell and see.)"
      ]
    },
    {
      "cell_type": "code",
      "metadata": {
        "scrolled": true,
        "id": "TP66h5A2u51k",
        "colab_type": "code",
        "outputId": "7c39d272-2a0d-4b5c-a145-88d2d931366a",
        "colab": {}
      },
      "source": [
        "3.2500"
      ],
      "execution_count": 0,
      "outputs": [
        {
          "output_type": "execute_result",
          "data": {
            "text/plain": [
              "3.25"
            ]
          },
          "metadata": {
            "tags": []
          },
          "execution_count": 8
        }
      ]
    },
    {
      "cell_type": "markdown",
      "metadata": {
        "id": "_fZ7_B1uu51m",
        "colab_type": "text"
      },
      "source": [
        "Notice that we didn't have to `print`. When you run a notebook cell, if the last line has a value, then Jupyter helpfully prints out that value for you. However, it won't print out prior lines automatically. If you want to print out a prior line, you need to add the `print` statement. Run the cell below to check."
      ]
    },
    {
      "cell_type": "code",
      "metadata": {
        "scrolled": true,
        "id": "eQRGUWAFu51m",
        "colab_type": "code",
        "outputId": "6ad84455-9bbd-4e1d-863f-7f1f7a231d5e",
        "colab": {}
      },
      "source": [
        "print(2)\n",
        "3\n",
        "4"
      ],
      "execution_count": 0,
      "outputs": [
        {
          "output_type": "stream",
          "text": [
            "2\n"
          ],
          "name": "stdout"
        },
        {
          "output_type": "execute_result",
          "data": {
            "text/plain": [
              "4"
            ]
          },
          "metadata": {
            "tags": []
          },
          "execution_count": 108
        }
      ]
    },
    {
      "cell_type": "markdown",
      "metadata": {
        "id": "4m7gKnP2u51o",
        "colab_type": "text"
      },
      "source": [
        "Above, you should see that 4 is the value of the last expression, 2 is printed, but 3 is lost forever because it was neither printed nor last.\n",
        "\n",
        "You don't want to print everything all the time anyway.  But if you feel sorry for 3, change the cell above to print it."
      ]
    },
    {
      "cell_type": "markdown",
      "metadata": {
        "id": "brst6xTDu51p",
        "colab_type": "text"
      },
      "source": [
        "### 2.2. Arithmetic\n",
        "Many basic arithmetic operations are built in to Python. The common operator that differs from typical math notation is `**`, which raises one number to the power of the other: `2**3` stands for $2^3$ and evaluates to 8. Typing `2^3` won't work. \n",
        "\n",
        "The order of operations is what you learned in elementary school, and Python also has parentheses.  For example, compare the outputs of the cells below. Use parentheses for a happy new year!"
      ]
    },
    {
      "cell_type": "code",
      "metadata": {
        "scrolled": true,
        "id": "pPYvsZZOu51p",
        "colab_type": "code",
        "outputId": "eaf7f0d2-a332-4cda-8605-ff4240d73b17",
        "colab": {}
      },
      "source": [
        "3+6*5-6*3**2*2**3/4*7"
      ],
      "execution_count": 0,
      "outputs": [
        {
          "output_type": "execute_result",
          "data": {
            "text/plain": [
              "-723.0"
            ]
          },
          "metadata": {
            "tags": []
          },
          "execution_count": 2
        }
      ]
    },
    {
      "cell_type": "code",
      "metadata": {
        "scrolled": true,
        "id": "RXHQrAYgu51s",
        "colab_type": "code",
        "outputId": "c407da76-8ed5-4e6f-f4be-6386eebef5f5",
        "colab": {}
      },
      "source": [
        "3+(6*5-(6*3))**2*((2**3)/4*7)"
      ],
      "execution_count": 0,
      "outputs": [
        {
          "output_type": "execute_result",
          "data": {
            "text/plain": [
              "2019.0"
            ]
          },
          "metadata": {
            "tags": []
          },
          "execution_count": 1
        }
      ]
    },
    {
      "cell_type": "markdown",
      "metadata": {
        "id": "14vKoogbu51u",
        "colab_type": "text"
      },
      "source": [
        "In standard math notation, the first expression is\n",
        "\n",
        "$$3 + 6 \\times 5 - 6 \\times 3^2 \\times \\frac{2^3}{4} \\times 7,$$\n",
        "\n",
        "while the second expression is\n",
        "\n",
        "$$3 + (6 \\times 5 - (6 \\times 3))^2 \\times (\\frac{(2^3)}{4} \\times 7).$$\n",
        "\n",
        "**Question 2.2.1.** <br /> Write a Python expression in this next cell that's equal to $5 \\times (3 \\frac{10}{11}) - 49 \\frac{1}{3} + 2^{0.5 \\times 22} + \\frac{26}{33}$.  That's five times three and ten elevenths, minus 49 and a third, plus two to the power of half of 22, plus 26 33rds.  By \"$3 \\frac{10}{11}$\" we mean $3+\\frac{10}{11}$, not $3 \\times \\frac{10}{11}$.\n",
        "\n",
        "Replace the ellipses (`...`) with your expression. \n",
        "\n",
        "*Hint:* The correct output should be a familiar number."
      ]
    },
    {
      "cell_type": "code",
      "metadata": {
        "scrolled": true,
        "id": "D-AgiwHeu51v",
        "colab_type": "code",
        "outputId": "e424b91f-5116-4576-afe9-9c69a7156b9e",
        "colab": {
          "base_uri": "https://localhost:8080/",
          "height": 34
        }
      },
      "source": [
        "..."
      ],
      "execution_count": 0,
      "outputs": [
        {
          "output_type": "execute_result",
          "data": {
            "text/plain": [
              "Ellipsis"
            ]
          },
          "metadata": {
            "tags": []
          },
          "execution_count": 2
        }
      ]
    },
    {
      "cell_type": "markdown",
      "metadata": {
        "id": "HtN8BXZ9u51x",
        "colab_type": "text"
      },
      "source": [
        "### 2.3. Variables/Names\n",
        "In Python, we do not have to specify the data type of the variable we are instantiating. It infers it from what is assigned to it. Execute the assignment statement below."
      ]
    },
    {
      "cell_type": "code",
      "metadata": {
        "scrolled": true,
        "id": "2DzRWASmu51y",
        "colab_type": "code",
        "colab": {}
      },
      "source": [
        "ten = 3 * 2 + 4"
      ],
      "execution_count": 0,
      "outputs": []
    },
    {
      "cell_type": "markdown",
      "metadata": {
        "id": "R4wwKidzu51z",
        "colab_type": "text"
      },
      "source": [
        "Now when we tell Python to print out the variable `ten` it will print out its value."
      ]
    },
    {
      "cell_type": "code",
      "metadata": {
        "scrolled": true,
        "id": "SAd7k0S7u510",
        "colab_type": "code",
        "outputId": "36e753cb-af44-42fe-9a06-447dafa889a4",
        "colab": {}
      },
      "source": [
        "print(ten)"
      ],
      "execution_count": 0,
      "outputs": [
        {
          "output_type": "stream",
          "text": [
            "10\n"
          ],
          "name": "stdout"
        }
      ]
    },
    {
      "cell_type": "markdown",
      "metadata": {
        "id": "rScpyEPZu512",
        "colab_type": "text"
      },
      "source": [
        "To check what type a variable is, use the `type` function."
      ]
    },
    {
      "cell_type": "code",
      "metadata": {
        "id": "wjOp1O75u512",
        "colab_type": "code",
        "outputId": "2ef09bd0-e508-4264-a151-fa6cda7a2f25",
        "colab": {}
      },
      "source": [
        "type(ten)"
      ],
      "execution_count": 0,
      "outputs": [
        {
          "output_type": "execute_result",
          "data": {
            "text/plain": [
              "int"
            ]
          },
          "metadata": {
            "tags": []
          },
          "execution_count": 15
        }
      ]
    },
    {
      "cell_type": "markdown",
      "metadata": {
        "id": "pOvYFCsyu514",
        "colab_type": "text"
      },
      "source": [
        "A common pattern in Jupyter notebooks is to assign a value to a name and then immediately evaluate the name in the last line in the cell so that the value is displayed as output. "
      ]
    },
    {
      "cell_type": "code",
      "metadata": {
        "scrolled": true,
        "id": "XYt_UkM2u515",
        "colab_type": "code",
        "outputId": "9b9e7a22-537e-47d0-c222-5d41834efad3",
        "colab": {}
      },
      "source": [
        "close_to_pi = 355/113\n",
        "close_to_pi"
      ],
      "execution_count": 0,
      "outputs": [
        {
          "output_type": "execute_result",
          "data": {
            "text/plain": [
              "3.1415929203539825"
            ]
          },
          "metadata": {
            "tags": []
          },
          "execution_count": 17
        }
      ]
    },
    {
      "cell_type": "markdown",
      "metadata": {
        "id": "M49bs84su519",
        "colab_type": "text"
      },
      "source": [
        "Another common pattern is that a series of lines in a single cell will build up a complex computation in stages, naming the intermediate results."
      ]
    },
    {
      "cell_type": "code",
      "metadata": {
        "scrolled": true,
        "id": "e-ani0Nyu51-",
        "colab_type": "code",
        "colab": {}
      },
      "source": [
        "bimonthly_salary = 840\n",
        "monthly_salary = 2 * bimonthly_salary\n",
        "number_of_months_in_a_year = 12\n",
        "yearly_salary = number_of_months_in_a_year * monthly_salary\n",
        "yearly_salary"
      ],
      "execution_count": 0,
      "outputs": []
    },
    {
      "cell_type": "markdown",
      "metadata": {
        "id": "gC-2FgOou52A",
        "colab_type": "text"
      },
      "source": [
        "Names in Python can have letters (upper- and lower-case letters are both okay and count as different letters), underscores, and numbers.  The first character can't be a number (otherwise a name might look like a number).  And names can't contain spaces, since spaces are used to separate pieces of code from each other.\n",
        "\n",
        "Other than those rules, what you name something doesn't matter *to Python*.  For example, this cell does the same thing as the above cell, except everything has a different name:"
      ]
    },
    {
      "cell_type": "code",
      "metadata": {
        "scrolled": true,
        "id": "XBPXhSv7u52A",
        "colab_type": "code",
        "colab": {}
      },
      "source": [
        "a = 840\n",
        "b = 2 * a\n",
        "c = 12\n",
        "d = c * b\n",
        "d"
      ],
      "execution_count": 0,
      "outputs": []
    },
    {
      "cell_type": "markdown",
      "metadata": {
        "id": "uEE4eVFqu52C",
        "colab_type": "text"
      },
      "source": [
        "**However**, names are very important for making your code *readable* to yourself and others.  The cell above is shorter, but it's totally useless without an explanation of what it does."
      ]
    },
    {
      "cell_type": "markdown",
      "metadata": {
        "id": "tJZ-DRvMu52D",
        "colab_type": "text"
      },
      "source": [
        "**Question 2.3.1.** <br /> Assign the name `seconds_in_a_decade` to the number of seconds between midnight January 1, 2010 and midnight January 1, 2020. Use Python to perform any required arithmetic."
      ]
    },
    {
      "cell_type": "code",
      "metadata": {
        "scrolled": true,
        "id": "6U-dEm1lu52F",
        "colab_type": "code",
        "colab": {}
      },
      "source": [
        "# Change the next line so that it computes the number of\n",
        "# seconds in a decade and assigns that number the name\n",
        "# seconds_in_a_decade.\n",
        "seconds_in_a_decade = ...\n",
        "\n",
        "# We've put this line in this cell so that it will print\n",
        "# the value you've given to seconds_in_a_decade when you\n",
        "# run it.  You don't need to change this.\n",
        "seconds_in_a_decade"
      ],
      "execution_count": 0,
      "outputs": []
    },
    {
      "cell_type": "markdown",
      "metadata": {
        "id": "9kZ0Tp3Qu52I",
        "colab_type": "text"
      },
      "source": [
        "**Comments**<br/>\n",
        "Note that `#` is used to create a comment. You can place it at the end of code to create a partial-line comment as well."
      ]
    },
    {
      "cell_type": "markdown",
      "metadata": {
        "id": "_BKKSdPQu52J",
        "colab_type": "text"
      },
      "source": [
        "### 2.4. Nested Expressions \n",
        "Data scientists and computer scientists love to nest expressions to save on space. \n",
        "\n",
        "*Note:* we are using some common, useful functions: `max`, `min`, `abs`"
      ]
    },
    {
      "cell_type": "markdown",
      "metadata": {
        "id": "I6dJs1RIu52K",
        "colab_type": "text"
      },
      "source": [
        "**Question 2.4.1** <br/>\n",
        "Suppose we are interested in heights that are very unusual.  We'll say that a height is unusual to the extent that it's far away from the average human height.  [An estimate](http://doi.org/10.1210/jcem.86.9.7875) of the average adult human height (averaging, we hope, over all humans on Earth today) is 1.688 meters.\n",
        "\n",
        "Say Aditya is 1.21 meters tall and Botan's height is 1.85 meters. Use Python to compute who has the most 'unusual' height of the two."
      ]
    },
    {
      "cell_type": "code",
      "metadata": {
        "scrolled": true,
        "id": "0ONXTYpYu52K",
        "colab_type": "code",
        "outputId": "39ec0b22-0fa1-4392-eb26-584af5f2a772",
        "colab": {}
      },
      "source": [
        "aditya_height_m = 1.21\n",
        "botan_height_m = 1.85\n",
        "average_adult_human_height_m = 1.688\n",
        "\n",
        "# The biggest distance from the average human height, among the two heights:\n",
        "biggest_distance_m = max(abs(aditya_height_m - average_adult_human_height_m), abs(botan_height_m - average_adult_human_height_m))\n",
        "\n",
        "# Print out our results in a nice readable format:\n",
        "print('The biggest distance from the average height among these two people is', biggest_distance_m, 'meters.')"
      ],
      "execution_count": 0,
      "outputs": [
        {
          "output_type": "stream",
          "text": [
            "The biggest distance from the average height among these two people is 0.478 meters.\n"
          ],
          "name": "stdout"
        }
      ]
    },
    {
      "cell_type": "markdown",
      "metadata": {
        "id": "qUOksELku52M",
        "colab_type": "text"
      },
      "source": [
        "### 2.5. String Methods\n",
        "You'll also see how to invoke *methods*.  A method is very similar to a function; however a method is a member function of an object. We will use methods on string objects now and later, on NumPy Array objects and Pandas DataFrame objects. Calling a method looks a little different than a function because the method is tied to a particular object: you call the method by typing the object name + `.` + method name.\n",
        "\n",
        "    <expression that evaluates to a string>.<method name>(<argument>, <argument>, ...)\n",
        "\n",
        "The `replace` method is shown below. String methods can be called on raw strings or on string variables."
      ]
    },
    {
      "cell_type": "code",
      "metadata": {
        "id": "6EgJu9Liu52M",
        "colab_type": "code",
        "outputId": "962d7d7b-47b2-4927-bbef-c953b35b855d",
        "colab": {}
      },
      "source": [
        "# Replace one letter\n",
        "'Hello'.replace('H', 'C')"
      ],
      "execution_count": 0,
      "outputs": [
        {
          "output_type": "execute_result",
          "data": {
            "text/plain": [
              "'Cello'"
            ]
          },
          "metadata": {
            "tags": []
          },
          "execution_count": 21
        }
      ]
    },
    {
      "cell_type": "code",
      "metadata": {
        "id": "kCofbVwYu52O",
        "colab_type": "code",
        "outputId": "00d5eb91-1699-48fe-a932-de691d98b098",
        "colab": {}
      },
      "source": [
        "# Replace a sequence of letters, which appears twice\n",
        "word = 'hitchhiker'\n",
        "word.replace('hi', 'ma')"
      ],
      "execution_count": 0,
      "outputs": [
        {
          "output_type": "execute_result",
          "data": {
            "text/plain": [
              "'matchmaker'"
            ]
          },
          "metadata": {
            "tags": []
          },
          "execution_count": 22
        }
      ]
    },
    {
      "cell_type": "markdown",
      "metadata": {
        "id": "y3sbTx0yu52Q",
        "colab_type": "text"
      },
      "source": [
        "The result of the `replace` method is another string, so you can call `replace` repeatedly."
      ]
    },
    {
      "cell_type": "code",
      "metadata": {
        "id": "2Hkp4zqdu52Q",
        "colab_type": "code",
        "outputId": "3828f66b-6c95-4994-b854-c5622831bec7",
        "colab": {}
      },
      "source": [
        "# Calling replace on the output of another call to replace\n",
        "'train'.replace('t', 'ing').replace('in', 'de')"
      ],
      "execution_count": 0,
      "outputs": [
        {
          "output_type": "execute_result",
          "data": {
            "text/plain": [
              "'degrade'"
            ]
          },
          "metadata": {
            "tags": []
          },
          "execution_count": 23
        }
      ]
    },
    {
      "cell_type": "markdown",
      "metadata": {
        "id": "ajJCXEAWu52S",
        "colab_type": "text"
      },
      "source": [
        "Other string methods do not take any arguments at all, because the original string is all that's needed to compute the result. In these cases, parentheses are still needed, but there's nothing in between the parentheses. Some methods that take no arguments include `lower`, `upper`, `capitalize`, `title`."
      ]
    },
    {
      "cell_type": "code",
      "metadata": {
        "id": "VVwmwKDgu52S",
        "colab_type": "code",
        "outputId": "12a72635-5777-46a4-d7be-955375724ca8",
        "colab": {}
      },
      "source": [
        "'idAhO sTatE unIveRSitY'.title()"
      ],
      "execution_count": 0,
      "outputs": [
        {
          "output_type": "execute_result",
          "data": {
            "text/plain": [
              "'Idaho State University'"
            ]
          },
          "metadata": {
            "tags": []
          },
          "execution_count": 27
        }
      ]
    },
    {
      "cell_type": "markdown",
      "metadata": {
        "id": "LyQcngMiu52U",
        "colab_type": "text"
      },
      "source": [
        "All these string methods are useful, but most programmers don't memorize their names or how to use them.  Instead, people usually just search the internet for documentation and examples. A complete [list of string methods](https://docs.python.org/3/library/stdtypes.html#string-methods) appears in the Python language documentation. [Stack Overflow](http://stackoverflow.com) has a huge database of answered questions that often demonstrate how to use these methods to achieve various ends."
      ]
    },
    {
      "cell_type": "markdown",
      "metadata": {
        "id": "MB6-a0xiu52U",
        "colab_type": "text"
      },
      "source": [
        "### 2.6. Strings as function arguments\n",
        "The function `len` takes a single string as its argument and returns the number of characters in the string: its **len**gth.  \n",
        "\n",
        "Note that it doesn't count *words*. `len('one small step for man')` is 22, not 5.\n",
        "\n",
        "We could use the string method `count` to count the number of spaces in a sentence. The number of spaces plus 1 should generally equal the number of words in a sentence.\n",
        "\n",
        "*Note:* We will see later that `len` can be used on Arrays and DataFrames too."
      ]
    },
    {
      "cell_type": "markdown",
      "metadata": {
        "id": "cTxR47uYu52V",
        "colab_type": "text"
      },
      "source": [
        "**Question 2.6.1**<br/>\n",
        "Find the number of words, using the string method `count`, in the following sentence:\n",
        ">But when you have seen vicious mobs lynch your mothers and fathers at will and drown your sisters and brothers at whim; when you have seen hate-filled policemen curse, kick and even kill your black brothers and sisters; when you see the vast majority of your twenty million Negro brothers smothering in an airtight cage of poverty in the midst of an affluent society; when you suddenly find your tongue twisted and your speech stammering as you seek to explain to your six-year-old daughter why she can’t go to the public amusement park that has just been advertised on television, and see tears welling up in her eyes when she is told that Funtown is closed to colored children, and see ominous clouds of inferiority beginning to form in her little mental sky, and see her beginning to distort her personality by developing an unconscious bitterness toward white people; when you have to concoct an answer for a five-year-old son who is asking: “Daddy, why do white people treat colored people so mean?”; when you take a cross-country drive and find it necessary to sleep night after night in the uncomfortable corners of your automobile because no motel will accept you; when you are humiliated day in and day out by nagging signs reading “white” and “colored”; when your first name becomes “nigger,” your middle name becomes “boy” (however old you are) and your last name becomes “John,” and your wife and mother are never given the respected title “Mrs.”; when you are harried by day and haunted by night by the fact that you are a Negro, living constantly at tiptoe stance, never quite knowing what to expect next, and are plagued with inner fears and outer resentments; when you go forever fighting a degenerating sense of “nobodiness”– then you will understand why we find it difficult to wait.\n",
        "\n",
        "-Martin Luther King, “A Letter from Birmingham Jail.”\n",
        "\n",
        "*Note:* Hyphenated words (ie \"six-year-old\") count as one word, so you do not need to consider hyphens."
      ]
    },
    {
      "cell_type": "code",
      "metadata": {
        "id": "3zfbdzFXu52V",
        "colab_type": "code",
        "outputId": "96c77b10-7112-4724-8f0b-f41601bcc3ee",
        "colab": {}
      },
      "source": [
        "a_very_long_sentence = 'But when you have seen vicious mobs lynch your mothers and fathers at will and drown your sisters and brothers at whim; when you have seen hate-filled policemen curse, kick and even kill your black brothers and sisters; when you see the vast majority of your twenty million Negro brothers smothering in an airtight cage of poverty in the midst of an affluent society; when you suddenly find your tongue twisted and your speech stammering as you seek to explain to your six-year-old daughter why she can’t go to the public amusement park that has just been advertised on television, and see tears welling up in her eyes when she is told that Funtown is closed to colored children, and see ominous clouds of inferiority beginning to form in her little mental sky, and see her beginning to distort her personality by developing an unconscious bitterness toward white people; when you have to concoct an answer for a five-year-old son who is asking: “Daddy, why do white people treat colored people so mean?”; when you take a cross-country drive and find it necessary to sleep night after night in the uncomfortable corners of your automobile because no motel will accept you; when you are humiliated day in and day out by nagging signs reading “white” and “colored”; when your first name becomes “nigger,” your middle name becomes “boy” (however old you are) and your last name becomes “John,” and your wife and mother are never given the respected title “Mrs.”; when you are harried by day and haunted by night by the fact that you are a Negro, living constantly at tiptoe stance, never quite knowing what to expect next, and are plagued with inner fears and outer resentments; when you go forever fighting a degenerating sense of “nobodiness”– then you will understand why we find it difficult to wait.'\n",
        "a_very_long_sentence.count(' ')"
      ],
      "execution_count": 0,
      "outputs": [
        {
          "output_type": "execute_result",
          "data": {
            "text/plain": [
              "309"
            ]
          },
          "metadata": {
            "tags": []
          },
          "execution_count": 28
        }
      ]
    },
    {
      "cell_type": "markdown",
      "metadata": {
        "id": "GDKe05Gru52Y",
        "colab_type": "text"
      },
      "source": [
        "## 3. NumPy Arrays\n",
        "\n",
        "Up to now, we haven't done much that you couldn't do yourself by hand, without going through the trouble of learning Python.  Computers are most useful when a small amount of code performs a lot of work by *performing the same action* to *many different things*.\n",
        "\n",
        "For example, in the time it takes you to calculate the 18% tip on a restaurant bill, a laptop can calculate 18% tips for every restaurant bill paid by every human on Earth that day.  (That's if you're pretty fast at doing arithmetic in your head!)\n",
        "\n",
        "**Arrays** are how we put many values in one place so that we can operate on them as a group. For example, if `billions_of_numbers` is an array of numbers, the expression\n",
        "\n",
        "    .18 * billions_of_numbers\n",
        "\n",
        "gives a new array of numbers that's the result of multiplying each number in `billions_of_numbers` by .18 (18%).  Arrays are not limited to numbers; we can also put all the words in a book into an array of strings."
      ]
    },
    {
      "cell_type": "markdown",
      "metadata": {
        "id": "gLOAgxkZu52Z",
        "colab_type": "text"
      },
      "source": [
        "### 3.1. Making arrays\n",
        "You can type in the data that goes in an array yourself, but that's not typically how programs work. Normally, we create arrays by loading them from an external source, like a data file.\n",
        "\n",
        "First, though, let's learn how to start from scratch. \n",
        "\n",
        "Arrays are provided by a package called [NumPy](http://www.numpy.org/) (pronounced \"NUM-pie\" or, if you prefer to pronounce things incorrectly, \"NUM-pee\").  The package is called `numpy`, but it's standard to rename it `np` for brevity.  You can do that with:"
      ]
    },
    {
      "cell_type": "code",
      "metadata": {
        "id": "PQbr-Pkpu52a",
        "colab_type": "code",
        "colab": {}
      },
      "source": [
        "import numpy as np"
      ],
      "execution_count": 0,
      "outputs": []
    },
    {
      "cell_type": "markdown",
      "metadata": {
        "id": "atqaC0b1u52b",
        "colab_type": "text"
      },
      "source": [
        "Now, to create an array, call the method `array`. Notice both curved and square brackets are needed. This is because you pass the `array` method a list, which is denoted with `[]` brackets. Run this cell to see an example:"
      ]
    },
    {
      "cell_type": "code",
      "metadata": {
        "scrolled": true,
        "id": "5TqQhsGku52c",
        "colab_type": "code",
        "outputId": "7ffe1556-94bf-4146-ecec-410c1864ed69",
        "colab": {}
      },
      "source": [
        "np.array([0.125, 4.75, -1.3])"
      ],
      "execution_count": 0,
      "outputs": [
        {
          "output_type": "execute_result",
          "data": {
            "text/plain": [
              "array([ 0.125,  4.75 , -1.3  ])"
            ]
          },
          "metadata": {
            "tags": []
          },
          "execution_count": 37
        }
      ]
    },
    {
      "cell_type": "markdown",
      "metadata": {
        "id": "21SR3XXCu52e",
        "colab_type": "text"
      },
      "source": [
        "To create a multi-dimensional array, pass lists within a list:"
      ]
    },
    {
      "cell_type": "code",
      "metadata": {
        "id": "7SHnUtdGu52e",
        "colab_type": "code",
        "outputId": "35978bcf-e681-4767-9b6e-3fb9aab4f68e",
        "colab": {}
      },
      "source": [
        "np.array([[0,1,2],[3,4,5],[6,7,8]])"
      ],
      "execution_count": 0,
      "outputs": [
        {
          "output_type": "execute_result",
          "data": {
            "text/plain": [
              "array([[0, 1, 2],\n",
              "       [3, 4, 5],\n",
              "       [6, 7, 8]])"
            ]
          },
          "metadata": {
            "tags": []
          },
          "execution_count": 36
        }
      ]
    },
    {
      "cell_type": "markdown",
      "metadata": {
        "id": "Ebrz0fNlu52g",
        "colab_type": "text"
      },
      "source": [
        "**Question 3.1.1.** <br/> Make an array containing the numbers 0, 1, -1, $\\pi$, and $e$, in that order.  Name it `interesting_numbers`. <br/> \n",
        "*Hint:* $\\pi$ and $e$ are available in the `math` library as `math.pi` and `math.e`"
      ]
    },
    {
      "cell_type": "code",
      "metadata": {
        "id": "itqdWgUWu52h",
        "colab_type": "code",
        "outputId": "af8e1e67-914b-4115-9bbd-a60a14b0fa3c",
        "colab": {}
      },
      "source": [
        "import math\n",
        "interesting_numbers = ...\n",
        "interesting_numbers"
      ],
      "execution_count": 0,
      "outputs": [
        {
          "output_type": "execute_result",
          "data": {
            "text/plain": [
              "array([ 0.        ,  1.        , -1.        ,  3.14159265,  2.71828183])"
            ]
          },
          "metadata": {
            "tags": []
          },
          "execution_count": 38
        }
      ]
    },
    {
      "cell_type": "markdown",
      "metadata": {
        "id": "lMy2OQ0Ju52k",
        "colab_type": "text"
      },
      "source": [
        "** `np.arange`**<br/>\n",
        "Very often in data science, we want to work with many numbers that are evenly spaced within some range.  NumPy provides a special function for this called `arange`.  `np.arange(start, stop, space)` produces an array with all the numbers starting at `start` and counting up by `space`, stopping **before** `stop` is reached.\n",
        "\n",
        "For example, the value of `np.arange(1, 6, 2)` is an array with elements 1, 3, and 5 -- it starts at 1 and counts up by 2, then stops before 6.  In other words, it's equivalent to `np.array(1, 3, 5)`.\n",
        "\n",
        "`np.arange(4, 9, 1)` is an array with elements 4, 5, 6, 7, and 8.  (It doesn't contain 9 because `np.arange` stops *before* the stop value is reached.)\n",
        "\n",
        "**Question 3.1.2.** <br/>Import `numpy` as `np` and then use `np.arange` to create an array with the multiples of 99 from 0 up to (**and including**) 9999.  (So its elements are 0, 99, 198, 297, etc.)"
      ]
    },
    {
      "cell_type": "code",
      "metadata": {
        "id": "jjxmR-k4u52l",
        "colab_type": "code",
        "outputId": "d64b2026-b70a-4fb6-b3fd-42cec52a6225",
        "colab": {}
      },
      "source": [
        "import numpy as np\n",
        "multiples_of_99 = ...\n",
        "multiples_of_99"
      ],
      "execution_count": 0,
      "outputs": [
        {
          "output_type": "execute_result",
          "data": {
            "text/plain": [
              "array([   0,   99,  198,  297,  396,  495,  594,  693,  792,  891,  990,\n",
              "       1089, 1188, 1287, 1386, 1485, 1584, 1683, 1782, 1881, 1980, 2079,\n",
              "       2178, 2277, 2376, 2475, 2574, 2673, 2772, 2871, 2970, 3069, 3168,\n",
              "       3267, 3366, 3465, 3564, 3663, 3762, 3861, 3960, 4059, 4158, 4257,\n",
              "       4356, 4455, 4554, 4653, 4752, 4851, 4950, 5049, 5148, 5247, 5346,\n",
              "       5445, 5544, 5643, 5742, 5841, 5940, 6039, 6138, 6237, 6336, 6435,\n",
              "       6534, 6633, 6732, 6831, 6930, 7029, 7128, 7227, 7326, 7425, 7524,\n",
              "       7623, 7722, 7821, 7920, 8019, 8118, 8217, 8316, 8415, 8514, 8613,\n",
              "       8712, 8811, 8910, 9009, 9108, 9207, 9306, 9405, 9504, 9603, 9702,\n",
              "       9801, 9900, 9999])"
            ]
          },
          "metadata": {
            "tags": []
          },
          "execution_count": 39
        }
      ]
    },
    {
      "cell_type": "markdown",
      "metadata": {
        "id": "e6ZRq0Hxu52n",
        "colab_type": "text"
      },
      "source": [
        "**Question 3.1.3**<br/>\n",
        "Suppose stock quotes are provided every 5 seconds during market hours (9:30am to 4:00pm Eastern). The first quote occurs the instant the market opens and the last quote occurs the instant the market closes. Using the `numpy` method `arange`, create an array that contains the time, in seconds from the opening bell, of each stock quote during the trading day. "
      ]
    },
    {
      "cell_type": "code",
      "metadata": {
        "id": "UehMZXpWu52o",
        "colab_type": "code",
        "outputId": "d71852c9-0f8f-434f-9e57-558bd7f45908",
        "colab": {}
      },
      "source": [
        "quote_times = ...\n",
        "quote_times"
      ],
      "execution_count": 0,
      "outputs": [
        {
          "output_type": "execute_result",
          "data": {
            "text/plain": [
              "array([    0,     5,    10, ..., 23390, 23395, 23400])"
            ]
          },
          "metadata": {
            "tags": []
          },
          "execution_count": 40
        }
      ]
    },
    {
      "cell_type": "markdown",
      "metadata": {
        "id": "m1auPllGu52q",
        "colab_type": "text"
      },
      "source": [
        "### 3.2. Array indexing and slicing\n",
        "The NBA salaries for the 573 players in the 2017-18 season are in the file \"NBA_season1718_salary.csv\", which is loaded into the `salaries` array for you below."
      ]
    },
    {
      "cell_type": "code",
      "metadata": {
        "id": "_TEdcGqXu52q",
        "colab_type": "code",
        "outputId": "44d21676-3dad-4c21-851c-c2829804c774",
        "colab": {}
      },
      "source": [
        "# Don't worry too much about what goes on in this cell.\n",
        "import numpy as np\n",
        "import pandas as pd\n",
        "salariesdf = pd.read_csv(\"NBA_season1718_salary.csv\")\n",
        "salaries = salariesdf['season17_18'].values\n",
        "salaries"
      ],
      "execution_count": 0,
      "outputs": [
        {
          "output_type": "execute_result",
          "data": {
            "text/plain": [
              "array([3.4682550e+07, 3.3285709e+07, 3.1269231e+07, 2.9727900e+07,\n",
              "       2.9512900e+07, 2.8703704e+07, 2.8530608e+07, 2.8530608e+07,\n",
              "       2.8299399e+07, 2.7739975e+07, 2.7734405e+07, 2.6243760e+07,\n",
              "       2.6153057e+07, 2.5686667e+07, 2.5289390e+07, 2.5000000e+07,\n",
              "       2.4773250e+07, 2.4599495e+07, 2.3962573e+07, 2.3775506e+07,\n",
              "       2.3775506e+07, 2.3775506e+07, 2.3775506e+07, 2.3500000e+07,\n",
              "       2.3112004e+07, 2.3112004e+07, 2.3000000e+07, 2.2642350e+07,\n",
              "       2.2642350e+07, 2.2642350e+07, 2.2642350e+07, 2.2471910e+07,\n",
              "       2.2471910e+07, 2.2434783e+07, 2.1974719e+07, 2.1461010e+07,\n",
              "       2.1000000e+07, 2.0566802e+07, 2.0559599e+07, 2.0061729e+07,\n",
              "       2.0000000e+07, 1.9578455e+07, 1.9508958e+07, 1.9332500e+07,\n",
              "       1.9301070e+07, 1.9000000e+07, 1.8868625e+07, 1.8868625e+07,\n",
              "       1.8063850e+07, 1.8063850e+07, 1.7884176e+07, 1.7884176e+07,\n",
              "       1.7826150e+07, 1.7765000e+07, 1.7745894e+07, 1.7190000e+07,\n",
              "       1.7131148e+07, 1.7000450e+07, 1.7000000e+07, 1.7000000e+07,\n",
              "       1.6910113e+07, 1.6698103e+07, 1.6661641e+07, 1.6500000e+07,\n",
              "       1.6400000e+07, 1.6400000e+07, 1.6000000e+07, 1.6000000e+07,\n",
              "       1.6000000e+07, 1.5550000e+07, 1.5500000e+07, 1.5460675e+07,\n",
              "       1.5453126e+07, 1.5280000e+07, 1.4814815e+07, 1.4800000e+07,\n",
              "       1.4796348e+07, 1.4500000e+07, 1.4275000e+07, 1.4136364e+07,\n",
              "       1.4112360e+07, 1.4100000e+07, 1.4041096e+07, 1.4000000e+07,\n",
              "       1.3954000e+07, 1.3788500e+07, 1.3760000e+07, 1.3618750e+07,\n",
              "       1.3168750e+07, 1.3000000e+07, 1.3000000e+07, 1.2943020e+07,\n",
              "       1.2921348e+07, 1.2782609e+07, 1.2584270e+07, 1.2500000e+07,\n",
              "       1.2500000e+07, 1.2307692e+07, 1.2250000e+07, 1.2236535e+07,\n",
              "       1.2016854e+07, 1.2000000e+07, 1.2000000e+07, 1.2000000e+07,\n",
              "       1.1825000e+07, 1.1747890e+07, 1.1600000e+07, 1.1562500e+07,\n",
              "       1.1422536e+07, 1.1000000e+07, 1.1000000e+07, 1.0942762e+07,\n",
              "       1.0845506e+07, 1.0714286e+07, 1.0607169e+07, 1.0595505e+07,\n",
              "       1.0500000e+07, 1.0500000e+07, 1.0500000e+07, 1.0497319e+07,\n",
              "       1.0337079e+07, 1.0162922e+07, 1.0000000e+07, 1.0000000e+07,\n",
              "       1.0000000e+07, 9.9044950e+06, 9.8214290e+06, 9.7698210e+06,\n",
              "       9.6075000e+06, 9.5050000e+06, 9.4706140e+06, 9.2592590e+06,\n",
              "       9.1250000e+06, 9.0031250e+06, 9.0000000e+06, 8.8089890e+06,\n",
              "       8.5333330e+06, 8.4450240e+06, 8.4060000e+06, 8.3930000e+06,\n",
              "       8.0000000e+06, 8.0000000e+06, 8.0000000e+06, 7.9365090e+06,\n",
              "       7.8435000e+06, 7.6923080e+06, 7.6300000e+06, 7.5900350e+06,\n",
              "       7.5793660e+06, 7.5743220e+06, 7.4649120e+06, 7.4209120e+06,\n",
              "       7.4209120e+06, 7.3190350e+06, 7.3000000e+06, 7.2500000e+06,\n",
              "       7.0262400e+06, 7.0000000e+06, 7.0000000e+06, 7.0000000e+06,\n",
              "       7.0000000e+06, 6.7961170e+06, 6.7823920e+06, 6.6666670e+06,\n",
              "       6.6553250e+06, 6.3525310e+06, 6.3060600e+06, 6.3000000e+06,\n",
              "       6.2865600e+06, 6.2700000e+06, 6.2613950e+06, 6.2168400e+06,\n",
              "       6.1688400e+06, 6.1002660e+06, 6.0211750e+06, 6.0211750e+06,\n",
              "       6.0000000e+06, 6.0000000e+06, 6.0000000e+06, 6.0000000e+06,\n",
              "       6.0000000e+06, 6.0000000e+06, 5.8812600e+06, 5.8812600e+06,\n",
              "       5.7250000e+06, 5.6454000e+06, 5.5623600e+06, 5.5194000e+06,\n",
              "       5.5135140e+06, 5.5044200e+06, 5.5000000e+06, 5.4000000e+06,\n",
              "       5.2500000e+06, 5.2250000e+06, 5.2000000e+06, 5.1920000e+06,\n",
              "       5.1920000e+06, 5.1797600e+06, 5.0900400e+06, 5.0000000e+06,\n",
              "       5.0000000e+06, 5.0000000e+06, 5.0000000e+06, 4.9951200e+06,\n",
              "       4.9923850e+06, 4.9617980e+06, 4.9564800e+06, 4.7360500e+06,\n",
              "       4.6665000e+06, 4.6153850e+06, 4.6092000e+06, 4.5380200e+06,\n",
              "       4.5036000e+06, 4.4688000e+06, 4.4025460e+06, 4.3280000e+06,\n",
              "       4.3280000e+06, 4.3280000e+06, 4.1875990e+06, 4.1875990e+06,\n",
              "       4.1863200e+06, 4.1800000e+06, 4.1492420e+06, 4.0875000e+06,\n",
              "       4.0783200e+06, 4.0467600e+06, 4.0000000e+06, 3.9499990e+06,\n",
              "       3.9039000e+06, 3.8539310e+06, 3.8216400e+06, 3.8071460e+06,\n",
              "       3.7041600e+06, 3.6754800e+06, 3.5333330e+06, 3.5052330e+06,\n",
              "       3.5011200e+06, 3.4776000e+06, 3.4776000e+06, 3.4085200e+06,\n",
              "       3.3814800e+06, 3.3553200e+06, 3.3323400e+06, 3.3000000e+06,\n",
              "       3.2949940e+06, 3.2900000e+06, 3.2900000e+06, 3.2900000e+06,\n",
              "       3.2900000e+06, 3.2182800e+06, 3.2022170e+06, 3.2000000e+06,\n",
              "       3.1529310e+06, 3.0978000e+06, 3.0738000e+06, 3.0572400e+06,\n",
              "       3.0284100e+06, 3.0284100e+06, 3.0250350e+06, 3.0000000e+06,\n",
              "       3.0000000e+06, 2.9473050e+06, 2.9473050e+06, 2.9044800e+06,\n",
              "       2.8476000e+06, 2.8444290e+06, 2.8256400e+06, 2.7592800e+06,\n",
              "       2.7050400e+06, 2.7000000e+06, 2.6841600e+06, 2.6428570e+06,\n",
              "       2.6212800e+06, 2.5699200e+06, 2.5500550e+06, 2.5500000e+06,\n",
              "       2.5000000e+06, 2.5000000e+06, 2.5000000e+06, 2.5000000e+06,\n",
              "       2.4903600e+06, 2.4512250e+06, 2.4424550e+06, 2.4414000e+06,\n",
              "       2.4225600e+06, 2.4225600e+06, 2.3868640e+06, 2.3655600e+06,\n",
              "       2.3613600e+06, 2.3345200e+06, 2.3286520e+06, 2.3286520e+06,\n",
              "       2.3286520e+06, 2.3286520e+06, 2.3286520e+06, 2.3286520e+06,\n",
              "       2.3286520e+06, 2.3286520e+06, 2.3286520e+06, 2.3286520e+06,\n",
              "       2.3286520e+06, 2.3286520e+06, 2.3193600e+06, 2.3013600e+06,\n",
              "       2.3000000e+06, 2.2628710e+06, 2.2474800e+06, 2.2474800e+06,\n",
              "       2.2454000e+06, 2.2034400e+06, 2.1864000e+06, 2.1839340e+06,\n",
              "       2.1517040e+06, 2.1350400e+06, 2.1335420e+06, 2.1169550e+06,\n",
              "       2.1169550e+06, 2.1169550e+06, 2.1169550e+06, 2.1169550e+06,\n",
              "       2.1169550e+06, 2.1169550e+06, 2.1169550e+06, 2.1169550e+06,\n",
              "       2.1064700e+06, 2.1064070e+06, 2.1000000e+06, 2.0930400e+06,\n",
              "       2.0768400e+06, 2.0283600e+06, 2.0000000e+06, 2.0000000e+06,\n",
              "       1.9885200e+06, 1.9741590e+06, 1.9369200e+06, 1.9133450e+06,\n",
              "       1.8890400e+06, 1.8812500e+06, 1.8744000e+06, 1.8655470e+06,\n",
              "       1.8594000e+06, 1.7946000e+06, 1.7850000e+06, 1.7808000e+06,\n",
              "       1.7393330e+06, 1.7138400e+06, 1.7137200e+06, 1.7095380e+06,\n",
              "       1.7095380e+06, 1.7095380e+06, 1.7006400e+06, 1.6625000e+06,\n",
              "       1.6452000e+06, 1.6452000e+06, 1.6452000e+06, 1.6324800e+06,\n",
              "       1.5794400e+06, 1.5794400e+06, 1.5773200e+06, 1.5772300e+06,\n",
              "       1.5772300e+06, 1.5772300e+06, 1.5772300e+06, 1.5672000e+06,\n",
              "       1.5243050e+06, 1.5243050e+06, 1.5243050e+06, 1.5243050e+06,\n",
              "       1.5243050e+06, 1.5243050e+06, 1.5243050e+06, 1.5243050e+06,\n",
              "       1.5243050e+06, 1.5243050e+06, 1.5243050e+06, 1.5163200e+06,\n",
              "       1.5045600e+06, 1.5000000e+06, 1.4713820e+06, 1.4713820e+06,\n",
              "       1.4713820e+06, 1.4713820e+06, 1.4713820e+06, 1.4713820e+06,\n",
              "       1.4713820e+06, 1.4713820e+06, 1.4713820e+06, 1.4713820e+06,\n",
              "       1.4713820e+06, 1.4713820e+06, 1.4713820e+06, 1.4713820e+06,\n",
              "       1.4713820e+06, 1.4713820e+06, 1.4713820e+06, 1.4713820e+06,\n",
              "       1.4713820e+06, 1.4659200e+06, 1.4659200e+06, 1.4357500e+06,\n",
              "       1.4235600e+06, 1.4149200e+06, 1.4046000e+06, 1.3945200e+06,\n",
              "       1.3866000e+06, 1.3603050e+06, 1.3311600e+06, 1.3126110e+06,\n",
              "       1.3126110e+06, 1.3126110e+06, 1.3126110e+06, 1.3126110e+06,\n",
              "       1.3126110e+06, 1.3126110e+06, 1.3126110e+06, 1.3126110e+06,\n",
              "       1.3126110e+06, 1.3126110e+06, 1.3126110e+06, 1.3126110e+06,\n",
              "       1.3126110e+06, 1.3126110e+06, 1.3126110e+06, 1.3126110e+06,\n",
              "       1.3126110e+06, 1.3126110e+06, 1.3126110e+06, 1.3126110e+06,\n",
              "       1.3126110e+06, 1.3126110e+06, 1.3126110e+06, 1.3126110e+06,\n",
              "       1.3126110e+06, 1.3126110e+06, 1.3126110e+06, 1.3126110e+06,\n",
              "       1.3126110e+06, 1.3126110e+06, 1.3126110e+06, 1.3126110e+06,\n",
              "       1.3126110e+06, 1.3126110e+06, 1.3126110e+06, 1.2918920e+06,\n",
              "       1.1843850e+06, 1.1673330e+06, 1.1000000e+06, 1.0960800e+06,\n",
              "       1.0693080e+06, 1.0500000e+06, 1.0352000e+06, 1.0000000e+06,\n",
              "       1.0000000e+06, 9.5000000e+05, 9.5000000e+05, 9.5000000e+05,\n",
              "       9.4724800e+05, 9.4512600e+05, 8.3000000e+05, 8.1561500e+05,\n",
              "       8.1561500e+05, 8.1561500e+05, 8.1561500e+05, 8.1561500e+05,\n",
              "       8.1561500e+05, 8.1561500e+05, 8.1561500e+05, 8.1561500e+05,\n",
              "       8.1561500e+05, 8.1561500e+05, 8.1561500e+05, 8.1561500e+05,\n",
              "       8.1561500e+05, 8.1561500e+05, 8.1561500e+05, 8.1561500e+05,\n",
              "       8.1561500e+05, 7.8972500e+05, 7.8416000e+05, 7.7866800e+05,\n",
              "       7.7621700e+05, 7.4990500e+05, 7.4816000e+05, 6.7991900e+05,\n",
              "       6.5000000e+05, 5.1722000e+05, 5.1092100e+05, 5.0232800e+05,\n",
              "       5.0000000e+05, 5.0000000e+05, 5.0000000e+05, 4.5205900e+05,\n",
              "       3.3333400e+05, 3.3333400e+05, 3.1576000e+05, 3.0000000e+05,\n",
              "       3.0000000e+05, 2.6312400e+05, 2.5000000e+05, 2.3920400e+05,\n",
              "       2.2247600e+05, 2.0000000e+05, 1.7255200e+05, 1.7223800e+05,\n",
              "       1.7223800e+05, 1.6625800e+05, 1.4831800e+05, 1.4831800e+05,\n",
              "       1.4090200e+05, 1.1960200e+05, 1.1901000e+05, 1.0405900e+05,\n",
              "       1.0000000e+05, 1.0000000e+05, 1.0000000e+05, 1.0000000e+05,\n",
              "       9.2858000e+04, 9.2160000e+04, 9.2160000e+04, 9.2160000e+04,\n",
              "       9.2160000e+04, 9.2160000e+04, 9.2160000e+04, 9.2160000e+04,\n",
              "       8.7552000e+04, 8.3129000e+04, 8.3129000e+04, 8.3129000e+04,\n",
              "       7.4159000e+04, 7.4159000e+04, 7.4159000e+04, 7.4159000e+04,\n",
              "       5.3465000e+04, 5.0000000e+04, 5.0000000e+04, 5.0000000e+04,\n",
              "       5.0000000e+04, 5.0000000e+04, 5.0000000e+04, 5.0000000e+04,\n",
              "       5.0000000e+04, 5.0000000e+04, 5.0000000e+04, 5.0000000e+04,\n",
              "       5.0000000e+04, 5.0000000e+04, 5.0000000e+04, 5.0000000e+04,\n",
              "       5.0000000e+04, 5.0000000e+04, 5.0000000e+04, 5.0000000e+04,\n",
              "       5.0000000e+04, 5.0000000e+04, 5.0000000e+04, 5.0000000e+04,\n",
              "       5.0000000e+04, 5.0000000e+04, 5.0000000e+04, 4.6080000e+04,\n",
              "       4.6080000e+04, 4.6080000e+04, 4.6080000e+04, 4.6080000e+04,\n",
              "       4.6080000e+04, 4.6080000e+04, 2.6773000e+04, 2.5000000e+04,\n",
              "       2.5000000e+04, 2.5000000e+04, 2.5000000e+04, 2.2248000e+04,\n",
              "       1.7224000e+04])"
            ]
          },
          "metadata": {
            "tags": []
          },
          "execution_count": 60
        }
      ]
    },
    {
      "cell_type": "markdown",
      "metadata": {
        "id": "T9fjP7zcu52s",
        "colab_type": "text"
      },
      "source": [
        "Use `sort` to sort the array in ascending order."
      ]
    },
    {
      "cell_type": "code",
      "metadata": {
        "id": "c-o6X1CEu52t",
        "colab_type": "code",
        "outputId": "197ce4ee-ae19-4ff7-d50d-6c449f4e0936",
        "colab": {}
      },
      "source": [
        "salaries.sort()\n",
        "salaries"
      ],
      "execution_count": 0,
      "outputs": [
        {
          "output_type": "execute_result",
          "data": {
            "text/plain": [
              "array([1.7224000e+04, 2.2248000e+04, 2.5000000e+04, 2.5000000e+04,\n",
              "       2.5000000e+04, 2.5000000e+04, 2.6773000e+04, 4.6080000e+04,\n",
              "       4.6080000e+04, 4.6080000e+04, 4.6080000e+04, 4.6080000e+04,\n",
              "       4.6080000e+04, 4.6080000e+04, 5.0000000e+04, 5.0000000e+04,\n",
              "       5.0000000e+04, 5.0000000e+04, 5.0000000e+04, 5.0000000e+04,\n",
              "       5.0000000e+04, 5.0000000e+04, 5.0000000e+04, 5.0000000e+04,\n",
              "       5.0000000e+04, 5.0000000e+04, 5.0000000e+04, 5.0000000e+04,\n",
              "       5.0000000e+04, 5.0000000e+04, 5.0000000e+04, 5.0000000e+04,\n",
              "       5.0000000e+04, 5.0000000e+04, 5.0000000e+04, 5.0000000e+04,\n",
              "       5.0000000e+04, 5.0000000e+04, 5.0000000e+04, 5.0000000e+04,\n",
              "       5.3465000e+04, 7.4159000e+04, 7.4159000e+04, 7.4159000e+04,\n",
              "       7.4159000e+04, 8.3129000e+04, 8.3129000e+04, 8.3129000e+04,\n",
              "       8.7552000e+04, 9.2160000e+04, 9.2160000e+04, 9.2160000e+04,\n",
              "       9.2160000e+04, 9.2160000e+04, 9.2160000e+04, 9.2160000e+04,\n",
              "       9.2858000e+04, 1.0000000e+05, 1.0000000e+05, 1.0000000e+05,\n",
              "       1.0000000e+05, 1.0405900e+05, 1.1901000e+05, 1.1960200e+05,\n",
              "       1.4090200e+05, 1.4831800e+05, 1.4831800e+05, 1.6625800e+05,\n",
              "       1.7223800e+05, 1.7223800e+05, 1.7255200e+05, 2.0000000e+05,\n",
              "       2.2247600e+05, 2.3920400e+05, 2.5000000e+05, 2.6312400e+05,\n",
              "       3.0000000e+05, 3.0000000e+05, 3.1576000e+05, 3.3333400e+05,\n",
              "       3.3333400e+05, 4.5205900e+05, 5.0000000e+05, 5.0000000e+05,\n",
              "       5.0000000e+05, 5.0232800e+05, 5.1092100e+05, 5.1722000e+05,\n",
              "       6.5000000e+05, 6.7991900e+05, 7.4816000e+05, 7.4990500e+05,\n",
              "       7.7621700e+05, 7.7866800e+05, 7.8416000e+05, 7.8972500e+05,\n",
              "       8.1561500e+05, 8.1561500e+05, 8.1561500e+05, 8.1561500e+05,\n",
              "       8.1561500e+05, 8.1561500e+05, 8.1561500e+05, 8.1561500e+05,\n",
              "       8.1561500e+05, 8.1561500e+05, 8.1561500e+05, 8.1561500e+05,\n",
              "       8.1561500e+05, 8.1561500e+05, 8.1561500e+05, 8.1561500e+05,\n",
              "       8.1561500e+05, 8.1561500e+05, 8.3000000e+05, 9.4512600e+05,\n",
              "       9.4724800e+05, 9.5000000e+05, 9.5000000e+05, 9.5000000e+05,\n",
              "       1.0000000e+06, 1.0000000e+06, 1.0352000e+06, 1.0500000e+06,\n",
              "       1.0693080e+06, 1.0960800e+06, 1.1000000e+06, 1.1673330e+06,\n",
              "       1.1843850e+06, 1.2918920e+06, 1.3126110e+06, 1.3126110e+06,\n",
              "       1.3126110e+06, 1.3126110e+06, 1.3126110e+06, 1.3126110e+06,\n",
              "       1.3126110e+06, 1.3126110e+06, 1.3126110e+06, 1.3126110e+06,\n",
              "       1.3126110e+06, 1.3126110e+06, 1.3126110e+06, 1.3126110e+06,\n",
              "       1.3126110e+06, 1.3126110e+06, 1.3126110e+06, 1.3126110e+06,\n",
              "       1.3126110e+06, 1.3126110e+06, 1.3126110e+06, 1.3126110e+06,\n",
              "       1.3126110e+06, 1.3126110e+06, 1.3126110e+06, 1.3126110e+06,\n",
              "       1.3126110e+06, 1.3126110e+06, 1.3126110e+06, 1.3126110e+06,\n",
              "       1.3126110e+06, 1.3126110e+06, 1.3126110e+06, 1.3126110e+06,\n",
              "       1.3126110e+06, 1.3126110e+06, 1.3311600e+06, 1.3603050e+06,\n",
              "       1.3866000e+06, 1.3945200e+06, 1.4046000e+06, 1.4149200e+06,\n",
              "       1.4235600e+06, 1.4357500e+06, 1.4659200e+06, 1.4659200e+06,\n",
              "       1.4713820e+06, 1.4713820e+06, 1.4713820e+06, 1.4713820e+06,\n",
              "       1.4713820e+06, 1.4713820e+06, 1.4713820e+06, 1.4713820e+06,\n",
              "       1.4713820e+06, 1.4713820e+06, 1.4713820e+06, 1.4713820e+06,\n",
              "       1.4713820e+06, 1.4713820e+06, 1.4713820e+06, 1.4713820e+06,\n",
              "       1.4713820e+06, 1.4713820e+06, 1.4713820e+06, 1.5000000e+06,\n",
              "       1.5045600e+06, 1.5163200e+06, 1.5243050e+06, 1.5243050e+06,\n",
              "       1.5243050e+06, 1.5243050e+06, 1.5243050e+06, 1.5243050e+06,\n",
              "       1.5243050e+06, 1.5243050e+06, 1.5243050e+06, 1.5243050e+06,\n",
              "       1.5243050e+06, 1.5672000e+06, 1.5772300e+06, 1.5772300e+06,\n",
              "       1.5772300e+06, 1.5772300e+06, 1.5773200e+06, 1.5794400e+06,\n",
              "       1.5794400e+06, 1.6324800e+06, 1.6452000e+06, 1.6452000e+06,\n",
              "       1.6452000e+06, 1.6625000e+06, 1.7006400e+06, 1.7095380e+06,\n",
              "       1.7095380e+06, 1.7095380e+06, 1.7137200e+06, 1.7138400e+06,\n",
              "       1.7393330e+06, 1.7808000e+06, 1.7850000e+06, 1.7946000e+06,\n",
              "       1.8594000e+06, 1.8655470e+06, 1.8744000e+06, 1.8812500e+06,\n",
              "       1.8890400e+06, 1.9133450e+06, 1.9369200e+06, 1.9741590e+06,\n",
              "       1.9885200e+06, 2.0000000e+06, 2.0000000e+06, 2.0283600e+06,\n",
              "       2.0768400e+06, 2.0930400e+06, 2.1000000e+06, 2.1064070e+06,\n",
              "       2.1064700e+06, 2.1169550e+06, 2.1169550e+06, 2.1169550e+06,\n",
              "       2.1169550e+06, 2.1169550e+06, 2.1169550e+06, 2.1169550e+06,\n",
              "       2.1169550e+06, 2.1169550e+06, 2.1335420e+06, 2.1350400e+06,\n",
              "       2.1517040e+06, 2.1839340e+06, 2.1864000e+06, 2.2034400e+06,\n",
              "       2.2454000e+06, 2.2474800e+06, 2.2474800e+06, 2.2628710e+06,\n",
              "       2.3000000e+06, 2.3013600e+06, 2.3193600e+06, 2.3286520e+06,\n",
              "       2.3286520e+06, 2.3286520e+06, 2.3286520e+06, 2.3286520e+06,\n",
              "       2.3286520e+06, 2.3286520e+06, 2.3286520e+06, 2.3286520e+06,\n",
              "       2.3286520e+06, 2.3286520e+06, 2.3286520e+06, 2.3345200e+06,\n",
              "       2.3613600e+06, 2.3655600e+06, 2.3868640e+06, 2.4225600e+06,\n",
              "       2.4225600e+06, 2.4414000e+06, 2.4424550e+06, 2.4512250e+06,\n",
              "       2.4903600e+06, 2.5000000e+06, 2.5000000e+06, 2.5000000e+06,\n",
              "       2.5000000e+06, 2.5500000e+06, 2.5500550e+06, 2.5699200e+06,\n",
              "       2.6212800e+06, 2.6428570e+06, 2.6841600e+06, 2.7000000e+06,\n",
              "       2.7050400e+06, 2.7592800e+06, 2.8256400e+06, 2.8444290e+06,\n",
              "       2.8476000e+06, 2.9044800e+06, 2.9473050e+06, 2.9473050e+06,\n",
              "       3.0000000e+06, 3.0000000e+06, 3.0250350e+06, 3.0284100e+06,\n",
              "       3.0284100e+06, 3.0572400e+06, 3.0738000e+06, 3.0978000e+06,\n",
              "       3.1529310e+06, 3.2000000e+06, 3.2022170e+06, 3.2182800e+06,\n",
              "       3.2900000e+06, 3.2900000e+06, 3.2900000e+06, 3.2900000e+06,\n",
              "       3.2949940e+06, 3.3000000e+06, 3.3323400e+06, 3.3553200e+06,\n",
              "       3.3814800e+06, 3.4085200e+06, 3.4776000e+06, 3.4776000e+06,\n",
              "       3.5011200e+06, 3.5052330e+06, 3.5333330e+06, 3.6754800e+06,\n",
              "       3.7041600e+06, 3.8071460e+06, 3.8216400e+06, 3.8539310e+06,\n",
              "       3.9039000e+06, 3.9499990e+06, 4.0000000e+06, 4.0467600e+06,\n",
              "       4.0783200e+06, 4.0875000e+06, 4.1492420e+06, 4.1800000e+06,\n",
              "       4.1863200e+06, 4.1875990e+06, 4.1875990e+06, 4.3280000e+06,\n",
              "       4.3280000e+06, 4.3280000e+06, 4.4025460e+06, 4.4688000e+06,\n",
              "       4.5036000e+06, 4.5380200e+06, 4.6092000e+06, 4.6153850e+06,\n",
              "       4.6665000e+06, 4.7360500e+06, 4.9564800e+06, 4.9617980e+06,\n",
              "       4.9923850e+06, 4.9951200e+06, 5.0000000e+06, 5.0000000e+06,\n",
              "       5.0000000e+06, 5.0000000e+06, 5.0900400e+06, 5.1797600e+06,\n",
              "       5.1920000e+06, 5.1920000e+06, 5.2000000e+06, 5.2250000e+06,\n",
              "       5.2500000e+06, 5.4000000e+06, 5.5000000e+06, 5.5044200e+06,\n",
              "       5.5135140e+06, 5.5194000e+06, 5.5623600e+06, 5.6454000e+06,\n",
              "       5.7250000e+06, 5.8812600e+06, 5.8812600e+06, 6.0000000e+06,\n",
              "       6.0000000e+06, 6.0000000e+06, 6.0000000e+06, 6.0000000e+06,\n",
              "       6.0000000e+06, 6.0211750e+06, 6.0211750e+06, 6.1002660e+06,\n",
              "       6.1688400e+06, 6.2168400e+06, 6.2613950e+06, 6.2700000e+06,\n",
              "       6.2865600e+06, 6.3000000e+06, 6.3060600e+06, 6.3525310e+06,\n",
              "       6.6553250e+06, 6.6666670e+06, 6.7823920e+06, 6.7961170e+06,\n",
              "       7.0000000e+06, 7.0000000e+06, 7.0000000e+06, 7.0000000e+06,\n",
              "       7.0262400e+06, 7.2500000e+06, 7.3000000e+06, 7.3190350e+06,\n",
              "       7.4209120e+06, 7.4209120e+06, 7.4649120e+06, 7.5743220e+06,\n",
              "       7.5793660e+06, 7.5900350e+06, 7.6300000e+06, 7.6923080e+06,\n",
              "       7.8435000e+06, 7.9365090e+06, 8.0000000e+06, 8.0000000e+06,\n",
              "       8.0000000e+06, 8.3930000e+06, 8.4060000e+06, 8.4450240e+06,\n",
              "       8.5333330e+06, 8.8089890e+06, 9.0000000e+06, 9.0031250e+06,\n",
              "       9.1250000e+06, 9.2592590e+06, 9.4706140e+06, 9.5050000e+06,\n",
              "       9.6075000e+06, 9.7698210e+06, 9.8214290e+06, 9.9044950e+06,\n",
              "       1.0000000e+07, 1.0000000e+07, 1.0000000e+07, 1.0162922e+07,\n",
              "       1.0337079e+07, 1.0497319e+07, 1.0500000e+07, 1.0500000e+07,\n",
              "       1.0500000e+07, 1.0595505e+07, 1.0607169e+07, 1.0714286e+07,\n",
              "       1.0845506e+07, 1.0942762e+07, 1.1000000e+07, 1.1000000e+07,\n",
              "       1.1422536e+07, 1.1562500e+07, 1.1600000e+07, 1.1747890e+07,\n",
              "       1.1825000e+07, 1.2000000e+07, 1.2000000e+07, 1.2000000e+07,\n",
              "       1.2016854e+07, 1.2236535e+07, 1.2250000e+07, 1.2307692e+07,\n",
              "       1.2500000e+07, 1.2500000e+07, 1.2584270e+07, 1.2782609e+07,\n",
              "       1.2921348e+07, 1.2943020e+07, 1.3000000e+07, 1.3000000e+07,\n",
              "       1.3168750e+07, 1.3618750e+07, 1.3760000e+07, 1.3788500e+07,\n",
              "       1.3954000e+07, 1.4000000e+07, 1.4041096e+07, 1.4100000e+07,\n",
              "       1.4112360e+07, 1.4136364e+07, 1.4275000e+07, 1.4500000e+07,\n",
              "       1.4796348e+07, 1.4800000e+07, 1.4814815e+07, 1.5280000e+07,\n",
              "       1.5453126e+07, 1.5460675e+07, 1.5500000e+07, 1.5550000e+07,\n",
              "       1.6000000e+07, 1.6000000e+07, 1.6000000e+07, 1.6400000e+07,\n",
              "       1.6400000e+07, 1.6500000e+07, 1.6661641e+07, 1.6698103e+07,\n",
              "       1.6910113e+07, 1.7000000e+07, 1.7000000e+07, 1.7000450e+07,\n",
              "       1.7131148e+07, 1.7190000e+07, 1.7745894e+07, 1.7765000e+07,\n",
              "       1.7826150e+07, 1.7884176e+07, 1.7884176e+07, 1.8063850e+07,\n",
              "       1.8063850e+07, 1.8868625e+07, 1.8868625e+07, 1.9000000e+07,\n",
              "       1.9301070e+07, 1.9332500e+07, 1.9508958e+07, 1.9578455e+07,\n",
              "       2.0000000e+07, 2.0061729e+07, 2.0559599e+07, 2.0566802e+07,\n",
              "       2.1000000e+07, 2.1461010e+07, 2.1974719e+07, 2.2434783e+07,\n",
              "       2.2471910e+07, 2.2471910e+07, 2.2642350e+07, 2.2642350e+07,\n",
              "       2.2642350e+07, 2.2642350e+07, 2.3000000e+07, 2.3112004e+07,\n",
              "       2.3112004e+07, 2.3500000e+07, 2.3775506e+07, 2.3775506e+07,\n",
              "       2.3775506e+07, 2.3775506e+07, 2.3962573e+07, 2.4599495e+07,\n",
              "       2.4773250e+07, 2.5000000e+07, 2.5289390e+07, 2.5686667e+07,\n",
              "       2.6153057e+07, 2.6243760e+07, 2.7734405e+07, 2.7739975e+07,\n",
              "       2.8299399e+07, 2.8530608e+07, 2.8530608e+07, 2.8703704e+07,\n",
              "       2.9512900e+07, 2.9727900e+07, 3.1269231e+07, 3.3285709e+07,\n",
              "       3.4682550e+07])"
            ]
          },
          "metadata": {
            "tags": []
          },
          "execution_count": 63
        }
      ]
    },
    {
      "cell_type": "markdown",
      "metadata": {
        "id": "z-TD2O7Ou52v",
        "colab_type": "text"
      },
      "source": [
        "The first element in the array (the smallest when it is sorted) is `salaries[0]`. Note that in Python, arrays start counting with zero. The second element in the array is `salaries[1]` and the tenth element is `salaries[9]`."
      ]
    },
    {
      "cell_type": "code",
      "metadata": {
        "id": "UZleTlc9u52w",
        "colab_type": "code",
        "outputId": "c60e79f3-633a-429b-b91d-8b8d58cab8d9",
        "colab": {}
      },
      "source": [
        "salaries[0]"
      ],
      "execution_count": 0,
      "outputs": [
        {
          "output_type": "execute_result",
          "data": {
            "text/plain": [
              "17224.0"
            ]
          },
          "metadata": {
            "tags": []
          },
          "execution_count": 73
        }
      ]
    },
    {
      "cell_type": "markdown",
      "metadata": {
        "id": "tFUOgzMju52y",
        "colab_type": "text"
      },
      "source": [
        "The last element in the array is `salaries[572]`."
      ]
    },
    {
      "cell_type": "code",
      "metadata": {
        "id": "-8Mlyp8Vu520",
        "colab_type": "code",
        "outputId": "2f72e340-f695-4c1e-b244-0746a4df970d",
        "colab": {}
      },
      "source": [
        "salaries[572]"
      ],
      "execution_count": 0,
      "outputs": [
        {
          "output_type": "execute_result",
          "data": {
            "text/plain": [
              "34682550.0"
            ]
          },
          "metadata": {
            "tags": []
          },
          "execution_count": 68
        }
      ]
    },
    {
      "cell_type": "markdown",
      "metadata": {
        "id": "WmJLn8vSu523",
        "colab_type": "text"
      },
      "source": [
        "We can also access the last element by using `salaries[-1]`. In Python you use a negative sign to indicate that you are counting backwards from the end of the array. So `salaries[-2]` would be the second-to-last element in the array."
      ]
    },
    {
      "cell_type": "code",
      "metadata": {
        "id": "thWXQ7W7u525",
        "colab_type": "code",
        "outputId": "bc44fd24-fef9-455f-849e-ef876d2d65b7",
        "colab": {}
      },
      "source": [
        "salaries[-1]"
      ],
      "execution_count": 0,
      "outputs": [
        {
          "output_type": "execute_result",
          "data": {
            "text/plain": [
              "34682550.0"
            ]
          },
          "metadata": {
            "tags": []
          },
          "execution_count": 85
        }
      ]
    },
    {
      "cell_type": "markdown",
      "metadata": {
        "id": "J5dMCzYYu527",
        "colab_type": "text"
      },
      "source": [
        "If we try to access `salaries[573]` we get an error."
      ]
    },
    {
      "cell_type": "code",
      "metadata": {
        "id": "ueUgT25Ru527",
        "colab_type": "code",
        "outputId": "7dccac30-708b-4f06-e8c7-235d2803a850",
        "colab": {}
      },
      "source": [
        "salaries[573]"
      ],
      "execution_count": 0,
      "outputs": [
        {
          "output_type": "error",
          "ename": "IndexError",
          "evalue": "index 573 is out of bounds for axis 0 with size 573",
          "traceback": [
            "\u001b[1;31m---------------------------------------------------------------------------\u001b[0m",
            "\u001b[1;31mIndexError\u001b[0m                                Traceback (most recent call last)",
            "\u001b[1;32m<ipython-input-86-83ad827d5c1d>\u001b[0m in \u001b[0;36m<module>\u001b[1;34m()\u001b[0m\n\u001b[1;32m----> 1\u001b[1;33m \u001b[0msalaries\u001b[0m\u001b[1;33m[\u001b[0m\u001b[1;36m573\u001b[0m\u001b[1;33m]\u001b[0m\u001b[1;33m\u001b[0m\u001b[0m\n\u001b[0m",
            "\u001b[1;31mIndexError\u001b[0m: index 573 is out of bounds for axis 0 with size 573"
          ]
        }
      ]
    },
    {
      "cell_type": "markdown",
      "metadata": {
        "id": "ctpTrUNqu529",
        "colab_type": "text"
      },
      "source": [
        "To select the first ten elements we take a 'slice' of the array using `:`."
      ]
    },
    {
      "cell_type": "code",
      "metadata": {
        "id": "tFaNsa_wu52-",
        "colab_type": "code",
        "outputId": "cea48639-e6a7-4c79-838a-f4a8e88d75bf",
        "colab": {}
      },
      "source": [
        "salaries[:10]"
      ],
      "execution_count": 0,
      "outputs": [
        {
          "output_type": "execute_result",
          "data": {
            "text/plain": [
              "array([17224., 22248., 25000., 25000., 25000., 25000., 26773., 46080.,\n",
              "       46080., 46080.])"
            ]
          },
          "metadata": {
            "tags": []
          },
          "execution_count": 79
        }
      ]
    },
    {
      "cell_type": "markdown",
      "metadata": {
        "id": "OZACVL4_u53A",
        "colab_type": "text"
      },
      "source": [
        "We can also slice the last ten elements."
      ]
    },
    {
      "cell_type": "code",
      "metadata": {
        "id": "IjKzHcjxu53A",
        "colab_type": "code",
        "outputId": "0df868a0-7b60-4f42-a931-a2fcdd478e9a",
        "colab": {}
      },
      "source": [
        "salaries[-10:]"
      ],
      "execution_count": 0,
      "outputs": [
        {
          "output_type": "execute_result",
          "data": {
            "text/plain": [
              "array([27739975., 28299399., 28530608., 28530608., 28703704., 29512900.,\n",
              "       29727900., 31269231., 33285709., 34682550.])"
            ]
          },
          "metadata": {
            "tags": []
          },
          "execution_count": 95
        }
      ]
    },
    {
      "cell_type": "markdown",
      "metadata": {
        "id": "o3TwHkVku53D",
        "colab_type": "text"
      },
      "source": [
        "To slice the 10th thru the 20th elements (inclusive) we use:"
      ]
    },
    {
      "cell_type": "code",
      "metadata": {
        "id": "QmMqC4Bhu53E",
        "colab_type": "code",
        "outputId": "7a71eac6-2fac-4bac-968a-04d5b6307208",
        "colab": {}
      },
      "source": [
        "salaries[9:20]"
      ],
      "execution_count": 0,
      "outputs": [
        {
          "output_type": "execute_result",
          "data": {
            "text/plain": [
              "array([46080., 46080., 46080., 46080., 46080., 50000., 50000., 50000.,\n",
              "       50000., 50000., 50000.])"
            ]
          },
          "metadata": {
            "tags": []
          },
          "execution_count": 96
        }
      ]
    },
    {
      "cell_type": "markdown",
      "metadata": {
        "id": "JysS8Fg_u53F",
        "colab_type": "text"
      },
      "source": [
        "Note that the slice begins at the left value and continues up to but NOT including the right value. So we get elements `salaries[9]` thru `salaries[19]`, or eleven elements."
      ]
    },
    {
      "cell_type": "markdown",
      "metadata": {
        "id": "vU4wyq6mu53F",
        "colab_type": "text"
      },
      "source": [
        "If the array is not sorted it is still easy to find the max and min values are. <br/> Use `max` to find what the highest salary was."
      ]
    },
    {
      "cell_type": "code",
      "metadata": {
        "id": "JzXjUnoDu53G",
        "colab_type": "code",
        "outputId": "d7f00d01-4325-434b-81e7-e4f75c8d6cb7",
        "colab": {}
      },
      "source": [
        "salaries.max()\n",
        "# Note there are two ways to do this: we can use the free function max() or the numpy method max(). \n",
        "# Below is what the free function way would look like:\n",
        "# max(salaries)"
      ],
      "execution_count": 0,
      "outputs": [
        {
          "output_type": "execute_result",
          "data": {
            "text/plain": [
              "34682550.0"
            ]
          },
          "metadata": {
            "tags": []
          },
          "execution_count": 56
        }
      ]
    },
    {
      "cell_type": "markdown",
      "metadata": {
        "id": "yqJIqD-nu53H",
        "colab_type": "text"
      },
      "source": [
        "Use `min` to find what the lowest salary was."
      ]
    },
    {
      "cell_type": "code",
      "metadata": {
        "id": "bFtMgsRBu53H",
        "colab_type": "code",
        "outputId": "034d9838-1767-4fa5-fc36-65b6b5710858",
        "colab": {}
      },
      "source": [
        "salaries.min()"
      ],
      "execution_count": 0,
      "outputs": [
        {
          "output_type": "execute_result",
          "data": {
            "text/plain": [
              "17224.0"
            ]
          },
          "metadata": {
            "tags": []
          },
          "execution_count": 58
        }
      ]
    },
    {
      "cell_type": "markdown",
      "metadata": {
        "id": "tLjZgvW_u53J",
        "colab_type": "text"
      },
      "source": [
        "Numpy has some other useful methods. Use `sum` to find the total amount of money paid to NBA players as salary in the 2017-18 season."
      ]
    },
    {
      "cell_type": "code",
      "metadata": {
        "id": "v9jX7d7nu53J",
        "colab_type": "code",
        "outputId": "9a212f6a-d42d-4d15-89d9-2ee1211b5815",
        "colab": {}
      },
      "source": [
        "salaries.sum()"
      ],
      "execution_count": 0,
      "outputs": [
        {
          "output_type": "execute_result",
          "data": {
            "text/plain": [
              "3357175993.0"
            ]
          },
          "metadata": {
            "tags": []
          },
          "execution_count": 97
        }
      ]
    },
    {
      "cell_type": "markdown",
      "metadata": {
        "id": "Du1aRSgau53L",
        "colab_type": "text"
      },
      "source": [
        "Use `mean` to find what the average salary was."
      ]
    },
    {
      "cell_type": "code",
      "metadata": {
        "id": "7BFA9Lnzu53L",
        "colab_type": "code",
        "outputId": "f8583a71-be51-4b44-f688-9b27fbf879d8",
        "colab": {}
      },
      "source": [
        "salaries.mean()"
      ],
      "execution_count": 0,
      "outputs": [
        {
          "output_type": "execute_result",
          "data": {
            "text/plain": [
              "5858945.886561954"
            ]
          },
          "metadata": {
            "tags": []
          },
          "execution_count": 103
        }
      ]
    },
    {
      "cell_type": "markdown",
      "metadata": {
        "id": "yiWwjIKyu53M",
        "colab_type": "text"
      },
      "source": [
        "We can easily do arithmetic with arrays."
      ]
    },
    {
      "cell_type": "code",
      "metadata": {
        "id": "a0s2cYHIu53N",
        "colab_type": "code",
        "outputId": "c1e3615a-f06d-48f1-9334-3221f3ca6e84",
        "colab": {}
      },
      "source": [
        "salaries_in_millions = salaries / 1000000\n",
        "salaries_in_millions"
      ],
      "execution_count": 0,
      "outputs": [
        {
          "output_type": "execute_result",
          "data": {
            "text/plain": [
              "array([1.7224000e-02, 2.2248000e-02, 2.5000000e-02, 2.5000000e-02,\n",
              "       2.5000000e-02, 2.5000000e-02, 2.6773000e-02, 4.6080000e-02,\n",
              "       4.6080000e-02, 4.6080000e-02, 4.6080000e-02, 4.6080000e-02,\n",
              "       4.6080000e-02, 4.6080000e-02, 5.0000000e-02, 5.0000000e-02,\n",
              "       5.0000000e-02, 5.0000000e-02, 5.0000000e-02, 5.0000000e-02,\n",
              "       5.0000000e-02, 5.0000000e-02, 5.0000000e-02, 5.0000000e-02,\n",
              "       5.0000000e-02, 5.0000000e-02, 5.0000000e-02, 5.0000000e-02,\n",
              "       5.0000000e-02, 5.0000000e-02, 5.0000000e-02, 5.0000000e-02,\n",
              "       5.0000000e-02, 5.0000000e-02, 5.0000000e-02, 5.0000000e-02,\n",
              "       5.0000000e-02, 5.0000000e-02, 5.0000000e-02, 5.0000000e-02,\n",
              "       5.3465000e-02, 7.4159000e-02, 7.4159000e-02, 7.4159000e-02,\n",
              "       7.4159000e-02, 8.3129000e-02, 8.3129000e-02, 8.3129000e-02,\n",
              "       8.7552000e-02, 9.2160000e-02, 9.2160000e-02, 9.2160000e-02,\n",
              "       9.2160000e-02, 9.2160000e-02, 9.2160000e-02, 9.2160000e-02,\n",
              "       9.2858000e-02, 1.0000000e-01, 1.0000000e-01, 1.0000000e-01,\n",
              "       1.0000000e-01, 1.0405900e-01, 1.1901000e-01, 1.1960200e-01,\n",
              "       1.4090200e-01, 1.4831800e-01, 1.4831800e-01, 1.6625800e-01,\n",
              "       1.7223800e-01, 1.7223800e-01, 1.7255200e-01, 2.0000000e-01,\n",
              "       2.2247600e-01, 2.3920400e-01, 2.5000000e-01, 2.6312400e-01,\n",
              "       3.0000000e-01, 3.0000000e-01, 3.1576000e-01, 3.3333400e-01,\n",
              "       3.3333400e-01, 4.5205900e-01, 5.0000000e-01, 5.0000000e-01,\n",
              "       5.0000000e-01, 5.0232800e-01, 5.1092100e-01, 5.1722000e-01,\n",
              "       6.5000000e-01, 6.7991900e-01, 7.4816000e-01, 7.4990500e-01,\n",
              "       7.7621700e-01, 7.7866800e-01, 7.8416000e-01, 7.8972500e-01,\n",
              "       8.1561500e-01, 8.1561500e-01, 8.1561500e-01, 8.1561500e-01,\n",
              "       8.1561500e-01, 8.1561500e-01, 8.1561500e-01, 8.1561500e-01,\n",
              "       8.1561500e-01, 8.1561500e-01, 8.1561500e-01, 8.1561500e-01,\n",
              "       8.1561500e-01, 8.1561500e-01, 8.1561500e-01, 8.1561500e-01,\n",
              "       8.1561500e-01, 8.1561500e-01, 8.3000000e-01, 9.4512600e-01,\n",
              "       9.4724800e-01, 9.5000000e-01, 9.5000000e-01, 9.5000000e-01,\n",
              "       1.0000000e+00, 1.0000000e+00, 1.0352000e+00, 1.0500000e+00,\n",
              "       1.0693080e+00, 1.0960800e+00, 1.1000000e+00, 1.1673330e+00,\n",
              "       1.1843850e+00, 1.2918920e+00, 1.3126110e+00, 1.3126110e+00,\n",
              "       1.3126110e+00, 1.3126110e+00, 1.3126110e+00, 1.3126110e+00,\n",
              "       1.3126110e+00, 1.3126110e+00, 1.3126110e+00, 1.3126110e+00,\n",
              "       1.3126110e+00, 1.3126110e+00, 1.3126110e+00, 1.3126110e+00,\n",
              "       1.3126110e+00, 1.3126110e+00, 1.3126110e+00, 1.3126110e+00,\n",
              "       1.3126110e+00, 1.3126110e+00, 1.3126110e+00, 1.3126110e+00,\n",
              "       1.3126110e+00, 1.3126110e+00, 1.3126110e+00, 1.3126110e+00,\n",
              "       1.3126110e+00, 1.3126110e+00, 1.3126110e+00, 1.3126110e+00,\n",
              "       1.3126110e+00, 1.3126110e+00, 1.3126110e+00, 1.3126110e+00,\n",
              "       1.3126110e+00, 1.3126110e+00, 1.3311600e+00, 1.3603050e+00,\n",
              "       1.3866000e+00, 1.3945200e+00, 1.4046000e+00, 1.4149200e+00,\n",
              "       1.4235600e+00, 1.4357500e+00, 1.4659200e+00, 1.4659200e+00,\n",
              "       1.4713820e+00, 1.4713820e+00, 1.4713820e+00, 1.4713820e+00,\n",
              "       1.4713820e+00, 1.4713820e+00, 1.4713820e+00, 1.4713820e+00,\n",
              "       1.4713820e+00, 1.4713820e+00, 1.4713820e+00, 1.4713820e+00,\n",
              "       1.4713820e+00, 1.4713820e+00, 1.4713820e+00, 1.4713820e+00,\n",
              "       1.4713820e+00, 1.4713820e+00, 1.4713820e+00, 1.5000000e+00,\n",
              "       1.5045600e+00, 1.5163200e+00, 1.5243050e+00, 1.5243050e+00,\n",
              "       1.5243050e+00, 1.5243050e+00, 1.5243050e+00, 1.5243050e+00,\n",
              "       1.5243050e+00, 1.5243050e+00, 1.5243050e+00, 1.5243050e+00,\n",
              "       1.5243050e+00, 1.5672000e+00, 1.5772300e+00, 1.5772300e+00,\n",
              "       1.5772300e+00, 1.5772300e+00, 1.5773200e+00, 1.5794400e+00,\n",
              "       1.5794400e+00, 1.6324800e+00, 1.6452000e+00, 1.6452000e+00,\n",
              "       1.6452000e+00, 1.6625000e+00, 1.7006400e+00, 1.7095380e+00,\n",
              "       1.7095380e+00, 1.7095380e+00, 1.7137200e+00, 1.7138400e+00,\n",
              "       1.7393330e+00, 1.7808000e+00, 1.7850000e+00, 1.7946000e+00,\n",
              "       1.8594000e+00, 1.8655470e+00, 1.8744000e+00, 1.8812500e+00,\n",
              "       1.8890400e+00, 1.9133450e+00, 1.9369200e+00, 1.9741590e+00,\n",
              "       1.9885200e+00, 2.0000000e+00, 2.0000000e+00, 2.0283600e+00,\n",
              "       2.0768400e+00, 2.0930400e+00, 2.1000000e+00, 2.1064070e+00,\n",
              "       2.1064700e+00, 2.1169550e+00, 2.1169550e+00, 2.1169550e+00,\n",
              "       2.1169550e+00, 2.1169550e+00, 2.1169550e+00, 2.1169550e+00,\n",
              "       2.1169550e+00, 2.1169550e+00, 2.1335420e+00, 2.1350400e+00,\n",
              "       2.1517040e+00, 2.1839340e+00, 2.1864000e+00, 2.2034400e+00,\n",
              "       2.2454000e+00, 2.2474800e+00, 2.2474800e+00, 2.2628710e+00,\n",
              "       2.3000000e+00, 2.3013600e+00, 2.3193600e+00, 2.3286520e+00,\n",
              "       2.3286520e+00, 2.3286520e+00, 2.3286520e+00, 2.3286520e+00,\n",
              "       2.3286520e+00, 2.3286520e+00, 2.3286520e+00, 2.3286520e+00,\n",
              "       2.3286520e+00, 2.3286520e+00, 2.3286520e+00, 2.3345200e+00,\n",
              "       2.3613600e+00, 2.3655600e+00, 2.3868640e+00, 2.4225600e+00,\n",
              "       2.4225600e+00, 2.4414000e+00, 2.4424550e+00, 2.4512250e+00,\n",
              "       2.4903600e+00, 2.5000000e+00, 2.5000000e+00, 2.5000000e+00,\n",
              "       2.5000000e+00, 2.5500000e+00, 2.5500550e+00, 2.5699200e+00,\n",
              "       2.6212800e+00, 2.6428570e+00, 2.6841600e+00, 2.7000000e+00,\n",
              "       2.7050400e+00, 2.7592800e+00, 2.8256400e+00, 2.8444290e+00,\n",
              "       2.8476000e+00, 2.9044800e+00, 2.9473050e+00, 2.9473050e+00,\n",
              "       3.0000000e+00, 3.0000000e+00, 3.0250350e+00, 3.0284100e+00,\n",
              "       3.0284100e+00, 3.0572400e+00, 3.0738000e+00, 3.0978000e+00,\n",
              "       3.1529310e+00, 3.2000000e+00, 3.2022170e+00, 3.2182800e+00,\n",
              "       3.2900000e+00, 3.2900000e+00, 3.2900000e+00, 3.2900000e+00,\n",
              "       3.2949940e+00, 3.3000000e+00, 3.3323400e+00, 3.3553200e+00,\n",
              "       3.3814800e+00, 3.4085200e+00, 3.4776000e+00, 3.4776000e+00,\n",
              "       3.5011200e+00, 3.5052330e+00, 3.5333330e+00, 3.6754800e+00,\n",
              "       3.7041600e+00, 3.8071460e+00, 3.8216400e+00, 3.8539310e+00,\n",
              "       3.9039000e+00, 3.9499990e+00, 4.0000000e+00, 4.0467600e+00,\n",
              "       4.0783200e+00, 4.0875000e+00, 4.1492420e+00, 4.1800000e+00,\n",
              "       4.1863200e+00, 4.1875990e+00, 4.1875990e+00, 4.3280000e+00,\n",
              "       4.3280000e+00, 4.3280000e+00, 4.4025460e+00, 4.4688000e+00,\n",
              "       4.5036000e+00, 4.5380200e+00, 4.6092000e+00, 4.6153850e+00,\n",
              "       4.6665000e+00, 4.7360500e+00, 4.9564800e+00, 4.9617980e+00,\n",
              "       4.9923850e+00, 4.9951200e+00, 5.0000000e+00, 5.0000000e+00,\n",
              "       5.0000000e+00, 5.0000000e+00, 5.0900400e+00, 5.1797600e+00,\n",
              "       5.1920000e+00, 5.1920000e+00, 5.2000000e+00, 5.2250000e+00,\n",
              "       5.2500000e+00, 5.4000000e+00, 5.5000000e+00, 5.5044200e+00,\n",
              "       5.5135140e+00, 5.5194000e+00, 5.5623600e+00, 5.6454000e+00,\n",
              "       5.7250000e+00, 5.8812600e+00, 5.8812600e+00, 6.0000000e+00,\n",
              "       6.0000000e+00, 6.0000000e+00, 6.0000000e+00, 6.0000000e+00,\n",
              "       6.0000000e+00, 6.0211750e+00, 6.0211750e+00, 6.1002660e+00,\n",
              "       6.1688400e+00, 6.2168400e+00, 6.2613950e+00, 6.2700000e+00,\n",
              "       6.2865600e+00, 6.3000000e+00, 6.3060600e+00, 6.3525310e+00,\n",
              "       6.6553250e+00, 6.6666670e+00, 6.7823920e+00, 6.7961170e+00,\n",
              "       7.0000000e+00, 7.0000000e+00, 7.0000000e+00, 7.0000000e+00,\n",
              "       7.0262400e+00, 7.2500000e+00, 7.3000000e+00, 7.3190350e+00,\n",
              "       7.4209120e+00, 7.4209120e+00, 7.4649120e+00, 7.5743220e+00,\n",
              "       7.5793660e+00, 7.5900350e+00, 7.6300000e+00, 7.6923080e+00,\n",
              "       7.8435000e+00, 7.9365090e+00, 8.0000000e+00, 8.0000000e+00,\n",
              "       8.0000000e+00, 8.3930000e+00, 8.4060000e+00, 8.4450240e+00,\n",
              "       8.5333330e+00, 8.8089890e+00, 9.0000000e+00, 9.0031250e+00,\n",
              "       9.1250000e+00, 9.2592590e+00, 9.4706140e+00, 9.5050000e+00,\n",
              "       9.6075000e+00, 9.7698210e+00, 9.8214290e+00, 9.9044950e+00,\n",
              "       1.0000000e+01, 1.0000000e+01, 1.0000000e+01, 1.0162922e+01,\n",
              "       1.0337079e+01, 1.0497319e+01, 1.0500000e+01, 1.0500000e+01,\n",
              "       1.0500000e+01, 1.0595505e+01, 1.0607169e+01, 1.0714286e+01,\n",
              "       1.0845506e+01, 1.0942762e+01, 1.1000000e+01, 1.1000000e+01,\n",
              "       1.1422536e+01, 1.1562500e+01, 1.1600000e+01, 1.1747890e+01,\n",
              "       1.1825000e+01, 1.2000000e+01, 1.2000000e+01, 1.2000000e+01,\n",
              "       1.2016854e+01, 1.2236535e+01, 1.2250000e+01, 1.2307692e+01,\n",
              "       1.2500000e+01, 1.2500000e+01, 1.2584270e+01, 1.2782609e+01,\n",
              "       1.2921348e+01, 1.2943020e+01, 1.3000000e+01, 1.3000000e+01,\n",
              "       1.3168750e+01, 1.3618750e+01, 1.3760000e+01, 1.3788500e+01,\n",
              "       1.3954000e+01, 1.4000000e+01, 1.4041096e+01, 1.4100000e+01,\n",
              "       1.4112360e+01, 1.4136364e+01, 1.4275000e+01, 1.4500000e+01,\n",
              "       1.4796348e+01, 1.4800000e+01, 1.4814815e+01, 1.5280000e+01,\n",
              "       1.5453126e+01, 1.5460675e+01, 1.5500000e+01, 1.5550000e+01,\n",
              "       1.6000000e+01, 1.6000000e+01, 1.6000000e+01, 1.6400000e+01,\n",
              "       1.6400000e+01, 1.6500000e+01, 1.6661641e+01, 1.6698103e+01,\n",
              "       1.6910113e+01, 1.7000000e+01, 1.7000000e+01, 1.7000450e+01,\n",
              "       1.7131148e+01, 1.7190000e+01, 1.7745894e+01, 1.7765000e+01,\n",
              "       1.7826150e+01, 1.7884176e+01, 1.7884176e+01, 1.8063850e+01,\n",
              "       1.8063850e+01, 1.8868625e+01, 1.8868625e+01, 1.9000000e+01,\n",
              "       1.9301070e+01, 1.9332500e+01, 1.9508958e+01, 1.9578455e+01,\n",
              "       2.0000000e+01, 2.0061729e+01, 2.0559599e+01, 2.0566802e+01,\n",
              "       2.1000000e+01, 2.1461010e+01, 2.1974719e+01, 2.2434783e+01,\n",
              "       2.2471910e+01, 2.2471910e+01, 2.2642350e+01, 2.2642350e+01,\n",
              "       2.2642350e+01, 2.2642350e+01, 2.3000000e+01, 2.3112004e+01,\n",
              "       2.3112004e+01, 2.3500000e+01, 2.3775506e+01, 2.3775506e+01,\n",
              "       2.3775506e+01, 2.3775506e+01, 2.3962573e+01, 2.4599495e+01,\n",
              "       2.4773250e+01, 2.5000000e+01, 2.5289390e+01, 2.5686667e+01,\n",
              "       2.6153057e+01, 2.6243760e+01, 2.7734405e+01, 2.7739975e+01,\n",
              "       2.8299399e+01, 2.8530608e+01, 2.8530608e+01, 2.8703704e+01,\n",
              "       2.9512900e+01, 2.9727900e+01, 3.1269231e+01, 3.3285709e+01,\n",
              "       3.4682550e+01])"
            ]
          },
          "metadata": {
            "tags": []
          },
          "execution_count": 105
        }
      ]
    },
    {
      "cell_type": "markdown",
      "metadata": {
        "id": "mwRQcawRu53O",
        "colab_type": "text"
      },
      "source": [
        "You can do the same with addition, subtraction, multiplication, and exponentiation (`**`). "
      ]
    },
    {
      "cell_type": "code",
      "metadata": {
        "id": "FOqjyc59u53O",
        "colab_type": "code",
        "colab": {}
      },
      "source": [
        ""
      ],
      "execution_count": 0,
      "outputs": []
    }
  ]
}